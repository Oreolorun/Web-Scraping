{
  "nbformat": 4,
  "nbformat_minor": 0,
  "metadata": {
    "colab": {
      "name": "WebScraper.ipynb",
      "provenance": [],
      "collapsed_sections": [],
      "authorship_tag": "ABX9TyOHVTVx0g6dAD68WXXCQ6sJ",
      "include_colab_link": true
    },
    "kernelspec": {
      "name": "python3",
      "display_name": "Python 3"
    },
    "language_info": {
      "name": "python"
    }
  },
  "cells": [
    {
      "cell_type": "markdown",
      "metadata": {
        "id": "view-in-github",
        "colab_type": "text"
      },
      "source": [
        "<a href=\"https://colab.research.google.com/github/Oreolorun/Web-Scraping/blob/main/WebScraper.ipynb\" target=\"_parent\"><img src=\"https://colab.research.google.com/assets/colab-badge.svg\" alt=\"Open In Colab\"/></a>"
      ]
    },
    {
      "cell_type": "code",
      "execution_count": 2,
      "metadata": {
        "id": "fEEp5QTlb6j4"
      },
      "outputs": [],
      "source": [
        "#  Importing libraries\n",
        "from urllib.request import urlopen\n",
        "import urllib.request\n",
        "from bs4 import BeautifulSoup\n",
        "import pandas as pd\n",
        "import numpy as np\n",
        "import os\n",
        "import requests\n",
        "import cv2\n",
        "import matplotlib.pyplot as plt\n",
        "from tqdm import tqdm"
      ]
    },
    {
      "cell_type": "code",
      "source": [
        "#  mounting drive\n",
        "from google.colab import drive\n",
        "drive.mount('/content/gdrive')"
      ],
      "metadata": {
        "colab": {
          "base_uri": "https://localhost:8080/"
        },
        "id": "fybJtzwch0f3",
        "outputId": "620f4104-9809-4ea3-db13-8cbba4f413c2"
      },
      "execution_count": 4,
      "outputs": [
        {
          "output_type": "stream",
          "name": "stdout",
          "text": [
            "Mounted at /content/gdrive\n"
          ]
        }
      ]
    },
    {
      "cell_type": "markdown",
      "source": [
        "## **Scraper Class**"
      ],
      "metadata": {
        "id": "pxhBfhwBgwcF"
      }
    },
    {
      "cell_type": "code",
      "source": [
        "class Scraper:\n",
        "  \"\"\"\n",
        "  This class is used to create an image web scraper\n",
        "  \"\"\"\n",
        "  def __init__(self, header):\n",
        "    self.header = header\n",
        "  \n",
        "  def __str__(self):\n",
        "    return \"\"\"\n",
        "    Methods Available:\n",
        "    .scrape(): extracts tags of interest\n",
        "    .download_images(): downloads images using src extracted from tags\n",
        "    .duplicate_check(): checks directory for duplicate images\n",
        "    .find_duplicates(): checks is duplicates of particular instances exits and deletes them\n",
        "    .delete_all(): deletes all instances of a list of images\n",
        "\n",
        "    \"\"\" \n",
        "    \n",
        "    \n",
        "  def scrape(self, url, tag, attribute_dict, pages=1):\n",
        "    \"\"\"\n",
        "    This method extracts img tags. Inspect to extract src.\n",
        "    \"\"\"\n",
        "    images = []\n",
        "    for i in tqdm(range(pages)):\n",
        "      request = urllib.request.Request(os.path.join(url, f'?page={str(i)}'), \n",
        "                                       headers= self.header)\n",
        "      html = urlopen(request)\n",
        "      bs = BeautifulSoup(html.read(), 'html.parser')\n",
        "      image_tags = bs.find_all(tag, attrs=attribute_dict)\n",
        "\n",
        "      for image_tag in image_tags:\n",
        "        images.append(image_tag)\n",
        "    \n",
        "    return images\n",
        "\n",
        "  def download_images(self, src_list, directory, prefix='img'):\n",
        "    \"\"\"\n",
        "    This method downloads scraped images into a specified directory\n",
        "    \"\"\"\n",
        "    try:\n",
        "      os.mkdir(directory)\n",
        "    except FileExistsError:\n",
        "      def sort_key(element):\n",
        "        return int(element.split('.')[0].split('_')[1])\n",
        "\n",
        "      file_names = os.listdir(directory)\n",
        "      file_names.sort(reverse=False, key=sort_key)\n",
        "      image_count = int(file_names[-1].split('.')[0].split('_')[1]) + 1\n",
        "\n",
        "      for src in tqdm(src_list):\n",
        "        with open(os.path.join(directory, prefix + f'_{str(image_count)}.jpg'), \n",
        "                  'wb') as f:\n",
        "                  response = requests.get(src)\n",
        "                  f.write(response.content)\n",
        "        image_count+=1\n",
        "      \n",
        "    print('Done!')\n",
        "\n",
        "  def duplicate_check(self, directory):\n",
        "    #  creating empyt lists to hold images\n",
        "    images = []\n",
        "    temp_list = []\n",
        "\n",
        "    #  defining a function which helps to check if an element is part of a list\n",
        "    def gate(file_list, master_list):\n",
        "      if len(master_list) == 0:\n",
        "        return 'allow'\n",
        "      #  function logic\n",
        "      access = []\n",
        "      for li in master_list:\n",
        "        check = np.array_equal(file_list[0], li[0])\n",
        "        access.append(check)\n",
        "        if check == True:\n",
        "          break\n",
        "      #  return statement\n",
        "      if True in access:\n",
        "        return 'deny'\n",
        "      else:\n",
        "        return 'allow'\n",
        "\n",
        "    #  reading images into list\n",
        "    print('reading images...')\n",
        "    for f in tqdm(os.listdir(folder)):\n",
        "      try:\n",
        "        image = cv2.imread(os.path.join(folder, f), cv2.IMREAD_GRAYSCALE)\n",
        "        image = cv2.resize(image, (20,20))\n",
        "        images.append([image, f])\n",
        "      except Exception:\n",
        "        pass\n",
        "\n",
        "    #  replicating list of images\n",
        "    images_2 = [x for x in images]\n",
        "    \n",
        "    #  checking images for duplicate instances\n",
        "    print('\\nchecking images...')\n",
        "    for image in tqdm(images):\n",
        "      i=0\n",
        "      images_2.remove(image)\n",
        "      for img in images_2:\n",
        "        if np.array_equal(image[0], img[0]):\n",
        "          i+=1\n",
        "          if i==1:\n",
        "            temp_list.append(image)\n",
        "            break\n",
        "    \n",
        "    #  creating list to hold refined duplicates\n",
        "    duplicates_3 = []\n",
        "\n",
        "    #  refining list of duplicates\n",
        "    print('processing...')\n",
        "    for image_file in tqdm(temp_list):\n",
        "      if gate(image_file, duplicates_3)=='allow':\n",
        "        duplicates_3.append(image_file)\n",
        "          \n",
        "    #  deriving filenames form refined list\n",
        "    duplicates = [x[1] for x in duplicates_3]\n",
        "\n",
        "    #  printing to screen\n",
        "    if len(duplicates) > 1:\n",
        "      print(f'\\nThere are {len(duplicates)} duplicated instances in the dataset')\n",
        "    elif len(duplicates) == 0:\n",
        "      print(f'\\nThere are no duplicated instances in the dataset')\n",
        "    else:\n",
        "      print(f'\\nThere is {len(duplicates)} duplicated instance in the dataset')\n",
        "    return duplicates\n",
        "\n",
        "  def find_duplicates(self, directory, filenames=[]):\n",
        "    \"\"\"\n",
        "    This method checks if particular images are duplicated providing the option\n",
        "    of deleting them or not. \n",
        "    \"\"\"\n",
        "    to_check = []\n",
        "    #  creating a list to hold duplicates\n",
        "    all_duplicates = []\n",
        "\n",
        "    #  Appending duplicated images array to list\n",
        "    for f in tqdm(filenames):\n",
        "      instance = cv2.imread(os.path.join(directory, f))\n",
        "      to_check.append(instance)\n",
        "\n",
        "    #  looping through all files\n",
        "    for f in tqdm(os.listdir(directory)):\n",
        "      #  reading image files\n",
        "      image_instance = cv2.imread(os.path.join(directory, f))\n",
        "      #  looping through all images to be checked\n",
        "      for item in to_check:\n",
        "        #  comparing arrays \n",
        "        check = np.array_equal(image_instance,item)\n",
        "        if check:\n",
        "          #  appending duplicate to list if condition holds true\n",
        "          all_duplicates.append(f)\n",
        "    \n",
        "\n",
        "    if len(to_check)==len(all_duplicates):\n",
        "      print('\\nThere are no duplicated instances.')\n",
        "    else:\n",
        "      print(f'\\nTotal number of duplicates:'+ \n",
        "            f' {len(all_duplicates[len(to_check):])}')\n",
        "   \n",
        "    REQUEST_INPUT = True\n",
        "\n",
        "    while REQUEST_INPUT:\n",
        "      user_input = input('Would you like to delete duplicates? (Yes(y)/No(n)): ')\n",
        "\n",
        "      if user_input.lower() == 'y':\n",
        "        all_duplicates = [x for x in all_duplicates if x not in filenames]\n",
        "        for instance in tqdm(all_duplicates):\n",
        "          try:\n",
        "            os.remove(os.path.join(directory, instance))\n",
        "          except FileNotFoundError:\n",
        "            pass\n",
        "        print('\\nDone!')\n",
        "        REQUEST_INPUT = False\n",
        "      elif user_input.lower() == 'n':\n",
        "        print('Done!')\n",
        "        REQUEST_INPUT = False\n",
        "      else:\n",
        "        print('Invalid Input!')\n",
        "\n",
        "  def delete_all(self, directory, filenames):\n",
        "    \"\"\"\n",
        "    This method deletes all instances of a particular image. \n",
        "    \"\"\"\n",
        "    to_check = []\n",
        "    #  creating a list to hold duplicates\n",
        "    all_duplicates = []\n",
        "\n",
        "    #  Appending image instance array to list\n",
        "    for f in tqdm(filenames):\n",
        "      instance = cv2.imread(os.path.join(directory, f))\n",
        "      to_check.append(instance)\n",
        "\n",
        "    #  looping through all files\n",
        "    for f in tqdm(os.listdir(directory)):\n",
        "      #  reading image files\n",
        "      image_instance = cv2.imread(os.path.join(directory, f))\n",
        "      #  looping through all images to be checked\n",
        "      for item in to_check:\n",
        "        #  comparing arrays \n",
        "        check = np.array_equal(image_instance,item)\n",
        "        if check:\n",
        "          #  appending duplicate to list if condition holds true\n",
        "          all_duplicates.append(f)\n",
        "    \n",
        "    while True:\n",
        "      user_input = input(f'There are/is {len(all_duplicates)} instances in this dataset.'+\n",
        "                        \"\\nConfirm deletion (Confirm(c)/Cancel(x)): \") \n",
        "      \n",
        "      if user_input.lower() == 'c': \n",
        "        #  deleting images\n",
        "        try:\n",
        "          for instance in all_duplicates:\n",
        "            os.remove(os.path.join(directory, instance))\n",
        "        except FileNotFoundError:\n",
        "          pass\n",
        "        break\n",
        "      elif user_input.lower() == 'x':\n",
        "        pass\n",
        "        break\n",
        "      else:\n",
        "        print('Invalid Input!\\n')\n",
        "    print('\\nDone!')"
      ],
      "metadata": {
        "id": "0Fyl1kmRJe0S"
      },
      "execution_count": 81,
      "outputs": []
    },
    {
      "cell_type": "code",
      "source": [
        "header = {'User-Agent': 'Mozilla/5.0 (X11; Linux x86_64) AppleWebKit/537.11 (KHTML, like Gecko) Chrome/23.0.1271.64 Safari/537.11',\n",
        "      'Accept': 'text/html,application/xhtml+xml,application/xml;q=0.9,*/*;q=0.8',\n",
        "      'Accept-Charset': 'ISO-8859-1,utf-8;q=0.7,*;q=0.3',\n",
        "      'Accept-Encoding': 'none',\n",
        "      'Accept-Language': 'en-US,en;q=0.8',\n",
        "      'Connection': 'keep-alive'}\n",
        "\n",
        "url = 'https://www.truecar.com/used-cars-for-sale/listings/body-coupe/location-georgetown-pa/'\n",
        "\n",
        "attrs = {'class':'img-inner img-block img-crop'}\n",
        "\n",
        "image_scraper = Scraper(header=header)"
      ],
      "metadata": {
        "id": "smd1nlVfZ3kJ"
      },
      "execution_count": 82,
      "outputs": []
    },
    {
      "cell_type": "code",
      "source": [
        "tags = image_scraper.scrape(url, 'img', attrs, 4)"
      ],
      "metadata": {
        "colab": {
          "base_uri": "https://localhost:8080/"
        },
        "id": "1Rt-1QuaWk32",
        "outputId": "abe415c5-fb43-4e59-b145-a1f1106b0c27"
      },
      "execution_count": 84,
      "outputs": [
        {
          "output_type": "stream",
          "name": "stderr",
          "text": [
            "100%|██████████| 4/4 [00:08<00:00,  2.25s/it]\n"
          ]
        }
      ]
    },
    {
      "cell_type": "code",
      "source": [
        "src = [x['style'][21:-1] for x in tags]\n",
        "\n",
        "folder = 'gdrive/My Drive/Datasets/from_scraper'\n",
        "\n",
        "image_scraper.download_images(src[:5], folder)"
      ],
      "metadata": {
        "colab": {
          "base_uri": "https://localhost:8080/"
        },
        "id": "3p6Q4YUKYFuB",
        "outputId": "14cb34a4-313d-4bdd-ea51-3e6f0750e983"
      },
      "execution_count": 91,
      "outputs": [
        {
          "output_type": "stream",
          "name": "stderr",
          "text": [
            "100%|██████████| 5/5 [00:02<00:00,  2.32it/s]"
          ]
        },
        {
          "output_type": "stream",
          "name": "stdout",
          "text": [
            "Done!\n"
          ]
        },
        {
          "output_type": "stream",
          "name": "stderr",
          "text": [
            "\n"
          ]
        }
      ]
    },
    {
      "cell_type": "code",
      "source": [
        "folder_2 = 'gdrive/My Drive/Datasets/Car_Images/sedans'\n",
        "folder = 'gdrive/My Drive/Datasets/from_scraper'\n",
        "\n",
        "image_scraper.duplicate_check(folder)"
      ],
      "metadata": {
        "colab": {
          "base_uri": "https://localhost:8080/"
        },
        "id": "xe0T5nJfbsN6",
        "outputId": "f85465e5-b1a9-4076-8432-f67e547bfab2"
      },
      "execution_count": 92,
      "outputs": [
        {
          "output_type": "stream",
          "name": "stdout",
          "text": [
            "reading images...\n"
          ]
        },
        {
          "output_type": "stream",
          "name": "stderr",
          "text": [
            "100%|██████████| 98/98 [00:00<00:00, 257.73it/s]\n"
          ]
        },
        {
          "output_type": "stream",
          "name": "stdout",
          "text": [
            "\n",
            "checking images...\n"
          ]
        },
        {
          "output_type": "stream",
          "name": "stderr",
          "text": [
            "100%|██████████| 98/98 [00:00<00:00, 3222.52it/s]\n"
          ]
        },
        {
          "output_type": "stream",
          "name": "stdout",
          "text": [
            "processing...\n"
          ]
        },
        {
          "output_type": "stream",
          "name": "stderr",
          "text": [
            "100%|██████████| 10/10 [00:00<00:00, 29620.79it/s]"
          ]
        },
        {
          "output_type": "stream",
          "name": "stdout",
          "text": [
            "\n",
            "There are 5 duplicated instances in the dataset\n"
          ]
        },
        {
          "output_type": "stream",
          "name": "stderr",
          "text": [
            "\n"
          ]
        },
        {
          "output_type": "execute_result",
          "data": {
            "text/plain": [
              "['img_3.jpg', 'img_6.jpg', 'img_103.jpg', 'img_125.jpg', 'img_126.jpg']"
            ]
          },
          "metadata": {},
          "execution_count": 92
        }
      ]
    },
    {
      "cell_type": "code",
      "source": [
        "image_scraper.find_duplicates(folder, ['img_3.jpg', \n",
        "                                       'img_6.jpg', \n",
        "                                       'img_103.jpg', \n",
        "                                       'img_125.jpg', \n",
        "                                       'img_126.jpg'])"
      ],
      "metadata": {
        "colab": {
          "base_uri": "https://localhost:8080/"
        },
        "id": "0J7eRVL7sczM",
        "outputId": "032ed932-2f1c-4cd3-ddc1-ebe733c3f17b"
      },
      "execution_count": 93,
      "outputs": [
        {
          "output_type": "stream",
          "name": "stderr",
          "text": [
            "100%|██████████| 5/5 [00:00<00:00, 221.13it/s]\n",
            "100%|██████████| 98/98 [00:00<00:00, 217.30it/s]\n"
          ]
        },
        {
          "name": "stdout",
          "output_type": "stream",
          "text": [
            "\n",
            "Total number of duplicates: 10\n",
            "Would you like to delete duplicates? (Yes(y)/No(n)): y\n"
          ]
        },
        {
          "output_type": "stream",
          "name": "stderr",
          "text": [
            "100%|██████████| 10/10 [00:00<00:00, 409.57it/s]"
          ]
        },
        {
          "output_type": "stream",
          "name": "stdout",
          "text": [
            "\n",
            "Done!\n"
          ]
        },
        {
          "output_type": "stream",
          "name": "stderr",
          "text": [
            "\n"
          ]
        }
      ]
    },
    {
      "cell_type": "code",
      "source": [
        "image_scraper.delete_all(folder, ['img_122.jpg'])"
      ],
      "metadata": {
        "colab": {
          "base_uri": "https://localhost:8080/"
        },
        "id": "Myd91oVJd4_5",
        "outputId": "7eff7cc5-e5ed-482e-abac-bcaef78b08a3"
      },
      "execution_count": 64,
      "outputs": [
        {
          "output_type": "stream",
          "name": "stderr",
          "text": [
            "100%|██████████| 1/1 [00:00<00:00, 97.91it/s]\n",
            "100%|██████████| 119/119 [00:00<00:00, 169.29it/s]\n"
          ]
        },
        {
          "output_type": "stream",
          "name": "stdout",
          "text": [
            "There are/is 1 instances in this dataset.\n",
            "Confirm deletion (Confirm(c)/Cancel(x)): g\n",
            "Invalid Input!\n",
            "\n",
            "There are/is 1 instances in this dataset.\n",
            "Confirm deletion (Confirm(c)/Cancel(x)): x\n",
            "\n",
            "Done!\n"
          ]
        }
      ]
    },
    {
      "cell_type": "markdown",
      "source": [
        "## Checking for duplicates"
      ],
      "metadata": {
        "id": "AeNdRjtN57pB"
      }
    },
    {
      "cell_type": "code",
      "source": [
        "def dupli_check_2(folder):\n",
        "  #  creating empyt lists to hold images\n",
        "  images = []\n",
        "  temp_list = []\n",
        "\n",
        "  #  defining a function which helps to check if an element is part of a list\n",
        "  def gate(file_list, master_list):\n",
        "    if len(master_list) == 0:\n",
        "      return 'allow'\n",
        "    #  function logic\n",
        "    access = []\n",
        "    for li in master_list:\n",
        "      check = np.array_equal(file_list[0], li[0])\n",
        "      access.append(check)\n",
        "      if check == True:\n",
        "        break\n",
        "    #  return statement\n",
        "    if True in access:\n",
        "      return 'deny'\n",
        "    else:\n",
        "      return 'allow'\n",
        "\n",
        "  #  reading images into list\n",
        "  print('reading images...')\n",
        "  for f in tqdm(os.listdir(folder)):\n",
        "    try:\n",
        "      image = cv2.imread(os.path.join(folder, f), cv2.IMREAD_GRAYSCALE)\n",
        "      image = cv2.resize(image, (20,20))\n",
        "      images.append([image, f])\n",
        "    except Exception:\n",
        "      pass\n",
        "\n",
        "  #  replicating list of images\n",
        "  images_2 = [x for x in images]\n",
        "  \n",
        "  #  checking images for duplicate instances\n",
        "  print('\\nchecking images...')\n",
        "  for image in tqdm(images):\n",
        "    i=0\n",
        "    images_2.remove(image)\n",
        "    for img in images_2:\n",
        "      if np.array_equal(image[0], img[0]):\n",
        "        i+=1\n",
        "        if i==1:\n",
        "          temp_list.append(image)\n",
        "          break\n",
        "  \n",
        "  #  creating list to hold refined duplicates\n",
        "  duplicates_3 = []\n",
        "\n",
        "  #  refining list of duplicates\n",
        "  print('processing...')\n",
        "  for image_file in tqdm(temp_list):\n",
        "    if gate(image_file, duplicates_3)=='allow':\n",
        "      duplicates_3.append(image_file)\n",
        "        \n",
        "  #  deriving filenames form refined list\n",
        "  duplicates = [x[1] for x in duplicates_3]\n",
        "\n",
        "  #  printing to screen\n",
        "  if len(duplicates) > 1:\n",
        "    print(f'\\nThere are {len(duplicates)} duplicated instances in the dataset')\n",
        "  elif len(duplicates) == 0:\n",
        "    print(f'\\nThere are no duplicated instances in the dataset')\n",
        "  else:\n",
        "    print(f'\\nThere is {len(duplicates)} duplicated instance in the dataset')\n",
        "  return duplicates"
      ],
      "metadata": {
        "id": "18CPahR9ugnc"
      },
      "execution_count": 74,
      "outputs": []
    },
    {
      "cell_type": "code",
      "source": [
        "folder = 'gdrive/My Drive/Datasets/from_scraper'\n",
        "folder_2 = 'gdrive/My Drive/Datasets/Car_Images/sedans'\n",
        "dup = dupli_check_2(folder_2)"
      ],
      "metadata": {
        "colab": {
          "base_uri": "https://localhost:8080/"
        },
        "id": "ftAnJlHLMfvm",
        "outputId": "5415a62c-5cb3-42bc-fbb9-1edb3702015b"
      },
      "execution_count": 77,
      "outputs": [
        {
          "output_type": "stream",
          "name": "stdout",
          "text": [
            "reading images...\n"
          ]
        },
        {
          "output_type": "stream",
          "name": "stderr",
          "text": [
            "100%|██████████| 20290/20290 [08:15<00:00, 40.95it/s] \n"
          ]
        },
        {
          "output_type": "stream",
          "name": "stdout",
          "text": [
            "\n",
            "checking images...\n"
          ]
        },
        {
          "output_type": "stream",
          "name": "stderr",
          "text": [
            "100%|██████████| 20288/20288 [15:03<00:00, 22.46it/s] \n"
          ]
        },
        {
          "output_type": "stream",
          "name": "stdout",
          "text": [
            "processing...\n"
          ]
        },
        {
          "output_type": "stream",
          "name": "stderr",
          "text": [
            "100%|██████████| 6096/6096 [01:24<00:00, 71.95it/s]"
          ]
        },
        {
          "output_type": "stream",
          "name": "stdout",
          "text": [
            "\n",
            "There are 4205 duplicated instances in the dataset\n"
          ]
        },
        {
          "output_type": "stream",
          "name": "stderr",
          "text": [
            "\n"
          ]
        }
      ]
    },
    {
      "cell_type": "code",
      "source": [
        "dupli = dupli_check_3(folder_2)"
      ],
      "metadata": {
        "colab": {
          "base_uri": "https://localhost:8080/"
        },
        "id": "6hMahE0g8KTX",
        "outputId": "c59bccfd-199b-4a4f-93bc-baef162e07ff"
      },
      "execution_count": 80,
      "outputs": [
        {
          "output_type": "stream",
          "name": "stdout",
          "text": [
            "reading images...\n"
          ]
        },
        {
          "output_type": "stream",
          "name": "stderr",
          "text": [
            "100%|██████████| 20290/20290 [01:41<00:00, 199.14it/s]\n"
          ]
        },
        {
          "output_type": "stream",
          "name": "stdout",
          "text": [
            "processing...\n"
          ]
        },
        {
          "output_type": "stream",
          "name": "stderr",
          "text": [
            "100%|██████████| 20288/20288 [13:11<00:00, 25.63it/s]"
          ]
        },
        {
          "output_type": "stream",
          "name": "stdout",
          "text": [
            "\n",
            "There are 14192 duplicated instances in the dataset\n"
          ]
        },
        {
          "output_type": "stream",
          "name": "stderr",
          "text": [
            "\n"
          ]
        }
      ]
    },
    {
      "cell_type": "code",
      "source": [
        "dup[:10]"
      ],
      "metadata": {
        "colab": {
          "base_uri": "https://localhost:8080/"
        },
        "id": "cRuphyGPhGZD",
        "outputId": "a5926eac-a733-4a66-d722-03823dbd82a4"
      },
      "execution_count": 78,
      "outputs": [
        {
          "output_type": "execute_result",
          "data": {
            "text/plain": [
              "['sedan_45202.jpg',\n",
              " 'sedan_45203.jpg',\n",
              " 'sedan_45204.jpg',\n",
              " 'sedan_45205.jpg',\n",
              " 'sedan_45206.jpg',\n",
              " 'sedan_45207.jpg',\n",
              " 'sedan_45209.jpg',\n",
              " 'sedan_45210.jpg',\n",
              " 'sedan_45211.jpg',\n",
              " 'sedan_45214.jpg']"
            ]
          },
          "metadata": {},
          "execution_count": 78
        }
      ]
    },
    {
      "cell_type": "code",
      "source": [
        "def gate(file_list, master_list):\n",
        "  if len(master_list) == 0:\n",
        "    return False\n",
        "  \n",
        "  access = []\n",
        "  for li in master_list:\n",
        "    check = np.array_equal(file_list[0], li[0])\n",
        "    access.append(check)\n",
        "\n",
        "  if True in access:\n",
        "    return 'deny'\n",
        "  else:\n",
        "    return 'allow'"
      ],
      "metadata": {
        "id": "79ARx4YHRG-T"
      },
      "execution_count": 55,
      "outputs": []
    }
  ]
}